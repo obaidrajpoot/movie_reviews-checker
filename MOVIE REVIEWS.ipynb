{
 "cells": [
  {
   "cell_type": "markdown",
   "id": "c1944f46",
   "metadata": {},
   "source": [
    "# LIBRARIES INSTALL"
   ]
  },
  {
   "cell_type": "code",
   "execution_count": 20,
   "id": "30e42306",
   "metadata": {},
   "outputs": [],
   "source": [
    "import pandas as pd\n",
    "import pandas as pd\n",
    "import matplotlib.pyplot as plt \n",
    "import seaborn as sns\n",
    "import string\n",
    "from sklearn.model_selection import train_test_split\n",
    "from sklearn.feature_extraction.text import CountVectorizer,TfidfVectorizer\n",
    "from sklearn.model_selection import train_test_split\n",
    "from sklearn.metrics import accuracy_score ,confusion_matrix,precision_score\n",
    "from sklearn.linear_model import LogisticRegression\n",
    "import nltk\n",
    "import re"
   ]
  },
  {
   "cell_type": "code",
   "execution_count": 2,
   "id": "9f7965b4",
   "metadata": {},
   "outputs": [],
   "source": [
    "dataset = pd.read_csv('IMDB Dataset.csv')"
   ]
  },
  {
   "cell_type": "code",
   "execution_count": 3,
   "id": "872bd3e2",
   "metadata": {},
   "outputs": [
    {
     "data": {
      "text/html": [
       "<div>\n",
       "<style scoped>\n",
       "    .dataframe tbody tr th:only-of-type {\n",
       "        vertical-align: middle;\n",
       "    }\n",
       "\n",
       "    .dataframe tbody tr th {\n",
       "        vertical-align: top;\n",
       "    }\n",
       "\n",
       "    .dataframe thead th {\n",
       "        text-align: right;\n",
       "    }\n",
       "</style>\n",
       "<table border=\"1\" class=\"dataframe\">\n",
       "  <thead>\n",
       "    <tr style=\"text-align: right;\">\n",
       "      <th></th>\n",
       "      <th>review</th>\n",
       "      <th>sentiment</th>\n",
       "    </tr>\n",
       "  </thead>\n",
       "  <tbody>\n",
       "    <tr>\n",
       "      <th>0</th>\n",
       "      <td>One of the other reviewers has mentioned that ...</td>\n",
       "      <td>positive</td>\n",
       "    </tr>\n",
       "    <tr>\n",
       "      <th>1</th>\n",
       "      <td>A wonderful little production. &lt;br /&gt;&lt;br /&gt;The...</td>\n",
       "      <td>positive</td>\n",
       "    </tr>\n",
       "    <tr>\n",
       "      <th>2</th>\n",
       "      <td>I thought this was a wonderful way to spend ti...</td>\n",
       "      <td>positive</td>\n",
       "    </tr>\n",
       "    <tr>\n",
       "      <th>3</th>\n",
       "      <td>Basically there's a family where a little boy ...</td>\n",
       "      <td>negative</td>\n",
       "    </tr>\n",
       "    <tr>\n",
       "      <th>4</th>\n",
       "      <td>Petter Mattei's \"Love in the Time of Money\" is...</td>\n",
       "      <td>positive</td>\n",
       "    </tr>\n",
       "    <tr>\n",
       "      <th>...</th>\n",
       "      <td>...</td>\n",
       "      <td>...</td>\n",
       "    </tr>\n",
       "    <tr>\n",
       "      <th>49995</th>\n",
       "      <td>I thought this movie did a down right good job...</td>\n",
       "      <td>positive</td>\n",
       "    </tr>\n",
       "    <tr>\n",
       "      <th>49996</th>\n",
       "      <td>Bad plot, bad dialogue, bad acting, idiotic di...</td>\n",
       "      <td>negative</td>\n",
       "    </tr>\n",
       "    <tr>\n",
       "      <th>49997</th>\n",
       "      <td>I am a Catholic taught in parochial elementary...</td>\n",
       "      <td>negative</td>\n",
       "    </tr>\n",
       "    <tr>\n",
       "      <th>49998</th>\n",
       "      <td>I'm going to have to disagree with the previou...</td>\n",
       "      <td>negative</td>\n",
       "    </tr>\n",
       "    <tr>\n",
       "      <th>49999</th>\n",
       "      <td>No one expects the Star Trek movies to be high...</td>\n",
       "      <td>negative</td>\n",
       "    </tr>\n",
       "  </tbody>\n",
       "</table>\n",
       "<p>50000 rows × 2 columns</p>\n",
       "</div>"
      ],
      "text/plain": [
       "                                                  review sentiment\n",
       "0      One of the other reviewers has mentioned that ...  positive\n",
       "1      A wonderful little production. <br /><br />The...  positive\n",
       "2      I thought this was a wonderful way to spend ti...  positive\n",
       "3      Basically there's a family where a little boy ...  negative\n",
       "4      Petter Mattei's \"Love in the Time of Money\" is...  positive\n",
       "...                                                  ...       ...\n",
       "49995  I thought this movie did a down right good job...  positive\n",
       "49996  Bad plot, bad dialogue, bad acting, idiotic di...  negative\n",
       "49997  I am a Catholic taught in parochial elementary...  negative\n",
       "49998  I'm going to have to disagree with the previou...  negative\n",
       "49999  No one expects the Star Trek movies to be high...  negative\n",
       "\n",
       "[50000 rows x 2 columns]"
      ]
     },
     "execution_count": 3,
     "metadata": {},
     "output_type": "execute_result"
    }
   ],
   "source": [
    "dataset"
   ]
  },
  {
   "cell_type": "code",
   "execution_count": 4,
   "id": "8523b71d",
   "metadata": {},
   "outputs": [
    {
     "data": {
      "text/plain": [
       "review       0\n",
       "sentiment    0\n",
       "dtype: int64"
      ]
     },
     "execution_count": 4,
     "metadata": {},
     "output_type": "execute_result"
    }
   ],
   "source": [
    "# Checking dataset have any null value\n",
    "dataset.isnull().sum()"
   ]
  },
  {
   "cell_type": "code",
   "execution_count": 5,
   "id": "83cd253b",
   "metadata": {},
   "outputs": [],
   "source": [
    "#target feature ordinal encode\n",
    "dataset.replace({'sentiment':{'positive':1,'negative':0}},inplace=True)"
   ]
  },
  {
   "cell_type": "markdown",
   "id": "b8aad6e4",
   "metadata": {},
   "source": [
    "# EDA"
   ]
  },
  {
   "cell_type": "code",
   "execution_count": 6,
   "id": "6d131dd8",
   "metadata": {
    "scrolled": true
   },
   "outputs": [
    {
     "data": {
      "image/png": "[encoded data removed]",
      "text/plain": [
       "<Figure size 640x480 with 1 Axes>"
      ]
     },
     "metadata": {},
     "output_type": "display_data"
    }
   ],
   "source": [
    "# Checking target feature is balance or unbalanced \n",
    "plt.pie(dataset['sentiment'].value_counts(),labels=['positive','negative'],autopct='%0.2f')\n",
    "plt.show()"
   ]
  },
  {
   "cell_type": "code",
   "execution_count": 6,
   "id": "86c6ab69",
   "metadata": {},
   "outputs": [],
   "source": [
    "# calcuate number of characters\n",
    "dataset['number of characters']=dataset['review'].apply(lambda char: len(char))"
   ]
  },
  {
   "cell_type": "code",
   "execution_count": 7,
   "id": "78ab2fbe",
   "metadata": {},
   "outputs": [],
   "source": [
    "# Calculate number of words\n",
    "dataset['number of words']=dataset['review'].apply(lambda words: len(nltk.word_tokenize(words)))"
   ]
  },
  {
   "cell_type": "code",
   "execution_count": 8,
   "id": "7bb1f9f3",
   "metadata": {},
   "outputs": [],
   "source": [
    "# Calculate number of sentence\n",
    "dataset['number of sentence']=dataset['review'].apply(lambda sentence: len(nltk.sent_tokenize(sentence)))"
   ]
  },
  {
   "cell_type": "code",
   "execution_count": 9,
   "id": "39d91486",
   "metadata": {},
   "outputs": [
    {
     "data": {
      "text/html": [
       "<div>\n",
       "<style scoped>\n",
       "    .dataframe tbody tr th:only-of-type {\n",
       "        vertical-align: middle;\n",
       "    }\n",
       "\n",
       "    .dataframe tbody tr th {\n",
       "        vertical-align: top;\n",
       "    }\n",
       "\n",
       "    .dataframe thead th {\n",
       "        text-align: right;\n",
       "    }\n",
       "</style>\n",
       "<table border=\"1\" class=\"dataframe\">\n",
       "  <thead>\n",
       "    <tr style=\"text-align: right;\">\n",
       "      <th></th>\n",
       "      <th>review</th>\n",
       "      <th>sentiment</th>\n",
       "      <th>number of characters</th>\n",
       "      <th>number of words</th>\n",
       "      <th>number of sentence</th>\n",
       "    </tr>\n",
       "  </thead>\n",
       "  <tbody>\n",
       "    <tr>\n",
       "      <th>0</th>\n",
       "      <td>One of the other reviewers has mentioned that ...</td>\n",
       "      <td>1</td>\n",
       "      <td>1761</td>\n",
       "      <td>380</td>\n",
       "      <td>10</td>\n",
       "    </tr>\n",
       "    <tr>\n",
       "      <th>1</th>\n",
       "      <td>A wonderful little production. &lt;br /&gt;&lt;br /&gt;The...</td>\n",
       "      <td>1</td>\n",
       "      <td>998</td>\n",
       "      <td>201</td>\n",
       "      <td>7</td>\n",
       "    </tr>\n",
       "    <tr>\n",
       "      <th>2</th>\n",
       "      <td>I thought this was a wonderful way to spend ti...</td>\n",
       "      <td>1</td>\n",
       "      <td>926</td>\n",
       "      <td>205</td>\n",
       "      <td>4</td>\n",
       "    </tr>\n",
       "    <tr>\n",
       "      <th>3</th>\n",
       "      <td>Basically there's a family where a little boy ...</td>\n",
       "      <td>0</td>\n",
       "      <td>748</td>\n",
       "      <td>175</td>\n",
       "      <td>6</td>\n",
       "    </tr>\n",
       "    <tr>\n",
       "      <th>4</th>\n",
       "      <td>Petter Mattei's \"Love in the Time of Money\" is...</td>\n",
       "      <td>1</td>\n",
       "      <td>1317</td>\n",
       "      <td>283</td>\n",
       "      <td>9</td>\n",
       "    </tr>\n",
       "    <tr>\n",
       "      <th>...</th>\n",
       "      <td>...</td>\n",
       "      <td>...</td>\n",
       "      <td>...</td>\n",
       "      <td>...</td>\n",
       "      <td>...</td>\n",
       "    </tr>\n",
       "    <tr>\n",
       "      <th>49995</th>\n",
       "      <td>I thought this movie did a down right good job...</td>\n",
       "      <td>1</td>\n",
       "      <td>1008</td>\n",
       "      <td>241</td>\n",
       "      <td>8</td>\n",
       "    </tr>\n",
       "    <tr>\n",
       "      <th>49996</th>\n",
       "      <td>Bad plot, bad dialogue, bad acting, idiotic di...</td>\n",
       "      <td>0</td>\n",
       "      <td>642</td>\n",
       "      <td>138</td>\n",
       "      <td>3</td>\n",
       "    </tr>\n",
       "    <tr>\n",
       "      <th>49997</th>\n",
       "      <td>I am a Catholic taught in parochial elementary...</td>\n",
       "      <td>0</td>\n",
       "      <td>1280</td>\n",
       "      <td>271</td>\n",
       "      <td>6</td>\n",
       "    </tr>\n",
       "    <tr>\n",
       "      <th>49998</th>\n",
       "      <td>I'm going to have to disagree with the previou...</td>\n",
       "      <td>0</td>\n",
       "      <td>1234</td>\n",
       "      <td>240</td>\n",
       "      <td>8</td>\n",
       "    </tr>\n",
       "    <tr>\n",
       "      <th>49999</th>\n",
       "      <td>No one expects the Star Trek movies to be high...</td>\n",
       "      <td>0</td>\n",
       "      <td>678</td>\n",
       "      <td>150</td>\n",
       "      <td>3</td>\n",
       "    </tr>\n",
       "  </tbody>\n",
       "</table>\n",
       "<p>50000 rows × 5 columns</p>\n",
       "</div>"
      ],
      "text/plain": [
       "                                                  review  sentiment  \\\n",
       "0      One of the other reviewers has mentioned that ...          1   \n",
       "1      A wonderful little production. <br /><br />The...          1   \n",
       "2      I thought this was a wonderful way to spend ti...          1   \n",
       "3      Basically there's a family where a little boy ...          0   \n",
       "4      Petter Mattei's \"Love in the Time of Money\" is...          1   \n",
       "...                                                  ...        ...   \n",
       "49995  I thought this movie did a down right good job...          1   \n",
       "49996  Bad plot, bad dialogue, bad acting, idiotic di...          0   \n",
       "49997  I am a Catholic taught in parochial elementary...          0   \n",
       "49998  I'm going to have to disagree with the previou...          0   \n",
       "49999  No one expects the Star Trek movies to be high...          0   \n",
       "\n",
       "       number of characters  number of words  number of sentence  \n",
       "0                      1761              380                  10  \n",
       "1                       998              201                   7  \n",
       "2                       926              205                   4  \n",
       "3                       748              175                   6  \n",
       "4                      1317              283                   9  \n",
       "...                     ...              ...                 ...  \n",
       "49995                  1008              241                   8  \n",
       "49996                   642              138                   3  \n",
       "49997                  1280              271                   6  \n",
       "49998                  1234              240                   8  \n",
       "49999                   678              150                   3  \n",
       "\n",
       "[50000 rows x 5 columns]"
      ]
     },
     "execution_count": 9,
     "metadata": {},
     "output_type": "execute_result"
    }
   ],
   "source": [
    "dataset"
   ]
  },
  {
   "cell_type": "code",
   "execution_count": 10,
   "id": "4df593c6",
   "metadata": {},
   "outputs": [
    {
     "data": {
      "text/html": [
       "<div>\n",
       "<style scoped>\n",
       "    .dataframe tbody tr th:only-of-type {\n",
       "        vertical-align: middle;\n",
       "    }\n",
       "\n",
       "    .dataframe tbody tr th {\n",
       "        vertical-align: top;\n",
       "    }\n",
       "\n",
       "    .dataframe thead th {\n",
       "        text-align: right;\n",
       "    }\n",
       "</style>\n",
       "<table border=\"1\" class=\"dataframe\">\n",
       "  <thead>\n",
       "    <tr style=\"text-align: right;\">\n",
       "      <th></th>\n",
       "      <th>number of words</th>\n",
       "      <th>number of sentence</th>\n",
       "      <th>number of characters</th>\n",
       "    </tr>\n",
       "  </thead>\n",
       "  <tbody>\n",
       "    <tr>\n",
       "      <th>count</th>\n",
       "      <td>25000.000000</td>\n",
       "      <td>25000.000000</td>\n",
       "      <td>25000.000000</td>\n",
       "    </tr>\n",
       "    <tr>\n",
       "      <th>mean</th>\n",
       "      <td>280.357840</td>\n",
       "      <td>10.456000</td>\n",
       "      <td>1324.797680</td>\n",
       "    </tr>\n",
       "    <tr>\n",
       "      <th>std</th>\n",
       "      <td>214.398757</td>\n",
       "      <td>7.910758</td>\n",
       "      <td>1031.492627</td>\n",
       "    </tr>\n",
       "    <tr>\n",
       "      <th>min</th>\n",
       "      <td>11.000000</td>\n",
       "      <td>1.000000</td>\n",
       "      <td>65.000000</td>\n",
       "    </tr>\n",
       "    <tr>\n",
       "      <th>25%</th>\n",
       "      <td>148.000000</td>\n",
       "      <td>6.000000</td>\n",
       "      <td>691.000000</td>\n",
       "    </tr>\n",
       "    <tr>\n",
       "      <th>50%</th>\n",
       "      <td>207.000000</td>\n",
       "      <td>9.000000</td>\n",
       "      <td>968.000000</td>\n",
       "    </tr>\n",
       "    <tr>\n",
       "      <th>75%</th>\n",
       "      <td>343.000000</td>\n",
       "      <td>13.000000</td>\n",
       "      <td>1614.000000</td>\n",
       "    </tr>\n",
       "    <tr>\n",
       "      <th>max</th>\n",
       "      <td>2911.000000</td>\n",
       "      <td>282.000000</td>\n",
       "      <td>13704.000000</td>\n",
       "    </tr>\n",
       "  </tbody>\n",
       "</table>\n",
       "</div>"
      ],
      "text/plain": [
       "       number of words  number of sentence  number of characters\n",
       "count     25000.000000        25000.000000          25000.000000\n",
       "mean        280.357840           10.456000           1324.797680\n",
       "std         214.398757            7.910758           1031.492627\n",
       "min          11.000000            1.000000             65.000000\n",
       "25%         148.000000            6.000000            691.000000\n",
       "50%         207.000000            9.000000            968.000000\n",
       "75%         343.000000           13.000000           1614.000000\n",
       "max        2911.000000          282.000000          13704.000000"
      ]
     },
     "execution_count": 10,
     "metadata": {},
     "output_type": "execute_result"
    }
   ],
   "source": [
    "dataset[dataset['sentiment']==1][['number of words','number of sentence','number of characters']].describe()"
   ]
  },
  {
   "cell_type": "code",
   "execution_count": 11,
   "id": "d2e720a4",
   "metadata": {},
   "outputs": [
    {
     "data": {
      "text/html": [
       "<div>\n",
       "<style scoped>\n",
       "    .dataframe tbody tr th:only-of-type {\n",
       "        vertical-align: middle;\n",
       "    }\n",
       "\n",
       "    .dataframe tbody tr th {\n",
       "        vertical-align: top;\n",
       "    }\n",
       "\n",
       "    .dataframe thead th {\n",
       "        text-align: right;\n",
       "    }\n",
       "</style>\n",
       "<table border=\"1\" class=\"dataframe\">\n",
       "  <thead>\n",
       "    <tr style=\"text-align: right;\">\n",
       "      <th></th>\n",
       "      <th>number of words</th>\n",
       "      <th>number of sentence</th>\n",
       "      <th>number of characters</th>\n",
       "    </tr>\n",
       "  </thead>\n",
       "  <tbody>\n",
       "    <tr>\n",
       "      <th>count</th>\n",
       "      <td>25000.000000</td>\n",
       "      <td>25000.000000</td>\n",
       "      <td>25000.000000</td>\n",
       "    </tr>\n",
       "    <tr>\n",
       "      <th>mean</th>\n",
       "      <td>278.609120</td>\n",
       "      <td>11.026880</td>\n",
       "      <td>1294.064360</td>\n",
       "    </tr>\n",
       "    <tr>\n",
       "      <th>std</th>\n",
       "      <td>201.294517</td>\n",
       "      <td>7.880229</td>\n",
       "      <td>945.892669</td>\n",
       "    </tr>\n",
       "    <tr>\n",
       "      <th>min</th>\n",
       "      <td>8.000000</td>\n",
       "      <td>1.000000</td>\n",
       "      <td>32.000000</td>\n",
       "    </tr>\n",
       "    <tr>\n",
       "      <th>25%</th>\n",
       "      <td>153.000000</td>\n",
       "      <td>6.000000</td>\n",
       "      <td>706.000000</td>\n",
       "    </tr>\n",
       "    <tr>\n",
       "      <th>50%</th>\n",
       "      <td>211.000000</td>\n",
       "      <td>9.000000</td>\n",
       "      <td>973.000000</td>\n",
       "    </tr>\n",
       "    <tr>\n",
       "      <th>75%</th>\n",
       "      <td>338.000000</td>\n",
       "      <td>13.000000</td>\n",
       "      <td>1567.250000</td>\n",
       "    </tr>\n",
       "    <tr>\n",
       "      <th>max</th>\n",
       "      <td>1936.000000</td>\n",
       "      <td>118.000000</td>\n",
       "      <td>8969.000000</td>\n",
       "    </tr>\n",
       "  </tbody>\n",
       "</table>\n",
       "</div>"
      ],
      "text/plain": [
       "       number of words  number of sentence  number of characters\n",
       "count     25000.000000        25000.000000          25000.000000\n",
       "mean        278.609120           11.026880           1294.064360\n",
       "std         201.294517            7.880229            945.892669\n",
       "min           8.000000            1.000000             32.000000\n",
       "25%         153.000000            6.000000            706.000000\n",
       "50%         211.000000            9.000000            973.000000\n",
       "75%         338.000000           13.000000           1567.250000\n",
       "max        1936.000000          118.000000           8969.000000"
      ]
     },
     "execution_count": 11,
     "metadata": {},
     "output_type": "execute_result"
    }
   ],
   "source": [
    "dataset[dataset['sentiment']==0][['number of words','number of sentence','number of characters']].describe()"
   ]
  },
  {
   "cell_type": "code",
   "execution_count": 12,
   "id": "3c460cd7",
   "metadata": {},
   "outputs": [],
   "source": [
    "# dataset for corr\n",
    "corr_df=dataset[['sentiment','number of words','number of sentence','number of characters']]"
   ]
  },
  {
   "cell_type": "code",
   "execution_count": 13,
   "id": "a664ded2",
   "metadata": {},
   "outputs": [
    {
     "data": {
      "text/plain": [
       "<Axes: >"
      ]
     },
     "execution_count": 13,
     "metadata": {},
     "output_type": "execute_result"
    },
    {
     "data": {
      "image/png": "[encoded data removed]",
      "text/plain": [
       "<Figure size 640x480 with 2 Axes>"
      ]
     },
     "metadata": {},
     "output_type": "display_data"
    }
   ],
   "source": [
    "# correlation\n",
    "sns.heatmap(corr_df.corr(),annot=True)"
   ]
  },
  {
   "cell_type": "markdown",
   "id": "e255762b",
   "metadata": {},
   "source": [
    "# NOTE: Using 20,000 rows out of 50,000\n",
    "BECAUSE REQUIRED LOTE OF TIME TO TRAIN 50,000 ROWS \n",
    "FOR BETTER ACCURACY USE 50,000 ROWS"
   ]
  },
  {
   "cell_type": "code",
   "execution_count": 15,
   "id": "e19fe92a",
   "metadata": {},
   "outputs": [
    {
     "data": {
      "text/plain": [
       "(20000, 5)"
      ]
     },
     "execution_count": 15,
     "metadata": {},
     "output_type": "execute_result"
    }
   ],
   "source": [
    "dataset=dataset.head(20000)\n",
    "dataset.shape"
   ]
  },
  {
   "cell_type": "code",
   "execution_count": 16,
   "id": "ae43247b",
   "metadata": {},
   "outputs": [
    {
     "data": {
      "text/plain": [
       "review                  I must admit, this is one of my favorite horro...\n",
       "sentiment                                                               1\n",
       "number of characters                                                 4601\n",
       "number of words                                                       961\n",
       "number of sentence                                                     36\n",
       "Name: 6908, dtype: object"
      ]
     },
     "execution_count": 16,
     "metadata": {},
     "output_type": "execute_result"
    }
   ],
   "source": [
    "dataset.iloc[6908]"
   ]
  },
  {
   "cell_type": "markdown",
   "id": "5ca4489a",
   "metadata": {},
   "source": [
    "## TEXT DATA PREPROCESSING\n"
   ]
  },
  {
   "cell_type": "markdown",
   "id": "91f32da7",
   "metadata": {},
   "source": [
    "#### Convert text lower case \n",
    "#### Removing html tags\n",
    "#### Word Tokenize\n",
    "#### Removing stop words and punctuations\n",
    "#### Stemming"
   ]
  },
  {
   "cell_type": "code",
   "execution_count": 26,
   "id": "51f11798",
   "metadata": {},
   "outputs": [],
   "source": [
    "def preprocessing(text):\n",
    "    y=[]\n",
    "    text=text.lower()\n",
    "    text_pattern=re.compile('<.*?>')\n",
    "    text=re.sub(text_pattern,' ',text)\n",
    "    text =nltk.word_tokenize(text)\n",
    "    for i in text:\n",
    "        if i not in nltk.corpus.stopwords.words('english') and i not in string.punctuation:\n",
    "            y.append(i)\n",
    "    text=y[:]\n",
    "    y.clear()\n",
    "    for i in text:\n",
    "        y.append(nltk.stem.porter.PorterStemmer().stem(i))\n",
    "    return \" \".join(y)"
   ]
  },
  {
   "cell_type": "code",
   "execution_count": 28,
   "id": "91f30931",
   "metadata": {
    "scrolled": true
   },
   "outputs": [],
   "source": [
    "dataset['review_transform']=dataset['review'].apply(preprocessing)"
   ]
  },
  {
   "cell_type": "code",
   "execution_count": 29,
   "id": "c37acbdf",
   "metadata": {},
   "outputs": [
    {
     "data": {
      "text/plain": [
       "(20000, 6)"
      ]
     },
     "execution_count": 29,
     "metadata": {},
     "output_type": "execute_result"
    }
   ],
   "source": [
    "dataset.shape"
   ]
  },
  {
   "cell_type": "code",
   "execution_count": 30,
   "id": "cd573016",
   "metadata": {},
   "outputs": [
    {
     "data": {
      "text/plain": [
       "0        175\n",
       "1         88\n",
       "2         93\n",
       "3         70\n",
       "4        130\n",
       "        ... \n",
       "19995     65\n",
       "19996    290\n",
       "19997    174\n",
       "19998    110\n",
       "19999    161\n",
       "Name: review_transform, Length: 20000, dtype: int64"
      ]
     },
     "execution_count": 30,
     "metadata": {},
     "output_type": "execute_result"
    }
   ],
   "source": [
    "dataset['review_transform'].apply(lambda x:len(nltk.word_tokenize(x)))"
   ]
  },
  {
   "cell_type": "code",
   "execution_count": 31,
   "id": "29c86439",
   "metadata": {},
   "outputs": [
    {
     "data": {
      "text/html": [
       "<div>\n",
       "<style scoped>\n",
       "    .dataframe tbody tr th:only-of-type {\n",
       "        vertical-align: middle;\n",
       "    }\n",
       "\n",
       "    .dataframe tbody tr th {\n",
       "        vertical-align: top;\n",
       "    }\n",
       "\n",
       "    .dataframe thead th {\n",
       "        text-align: right;\n",
       "    }\n",
       "</style>\n",
       "<table border=\"1\" class=\"dataframe\">\n",
       "  <thead>\n",
       "    <tr style=\"text-align: right;\">\n",
       "      <th></th>\n",
       "      <th>review</th>\n",
       "      <th>sentiment</th>\n",
       "      <th>number of characters</th>\n",
       "      <th>number of words</th>\n",
       "      <th>number of sentence</th>\n",
       "      <th>review_transform</th>\n",
       "    </tr>\n",
       "  </thead>\n",
       "  <tbody>\n",
       "    <tr>\n",
       "      <th>0</th>\n",
       "      <td>One of the other reviewers has mentioned that ...</td>\n",
       "      <td>1</td>\n",
       "      <td>1761</td>\n",
       "      <td>380</td>\n",
       "      <td>10</td>\n",
       "      <td>one review mention watch 1 oz episod 'll hook ...</td>\n",
       "    </tr>\n",
       "    <tr>\n",
       "      <th>1</th>\n",
       "      <td>A wonderful little production. &lt;br /&gt;&lt;br /&gt;The...</td>\n",
       "      <td>1</td>\n",
       "      <td>998</td>\n",
       "      <td>201</td>\n",
       "      <td>7</td>\n",
       "      <td>wonder littl product film techniqu unassuming-...</td>\n",
       "    </tr>\n",
       "    <tr>\n",
       "      <th>2</th>\n",
       "      <td>I thought this was a wonderful way to spend ti...</td>\n",
       "      <td>1</td>\n",
       "      <td>926</td>\n",
       "      <td>205</td>\n",
       "      <td>4</td>\n",
       "      <td>thought wonder way spend time hot summer weeke...</td>\n",
       "    </tr>\n",
       "    <tr>\n",
       "      <th>3</th>\n",
       "      <td>Basically there's a family where a little boy ...</td>\n",
       "      <td>0</td>\n",
       "      <td>748</td>\n",
       "      <td>175</td>\n",
       "      <td>6</td>\n",
       "      <td>basic 's famili littl boy jake think 's zombi ...</td>\n",
       "    </tr>\n",
       "    <tr>\n",
       "      <th>4</th>\n",
       "      <td>Petter Mattei's \"Love in the Time of Money\" is...</td>\n",
       "      <td>1</td>\n",
       "      <td>1317</td>\n",
       "      <td>283</td>\n",
       "      <td>9</td>\n",
       "      <td>petter mattei 's `` love time money '' visual ...</td>\n",
       "    </tr>\n",
       "    <tr>\n",
       "      <th>...</th>\n",
       "      <td>...</td>\n",
       "      <td>...</td>\n",
       "      <td>...</td>\n",
       "      <td>...</td>\n",
       "      <td>...</td>\n",
       "      <td>...</td>\n",
       "    </tr>\n",
       "    <tr>\n",
       "      <th>19995</th>\n",
       "      <td>ok. for starters, taxi driver is amazing. this...</td>\n",
       "      <td>0</td>\n",
       "      <td>697</td>\n",
       "      <td>154</td>\n",
       "      <td>9</td>\n",
       "      <td>ok. starter taxi driver amaz taxi driver amaz ...</td>\n",
       "    </tr>\n",
       "    <tr>\n",
       "      <th>19996</th>\n",
       "      <td>It's sort of hard for me to say it, because I ...</td>\n",
       "      <td>0</td>\n",
       "      <td>2850</td>\n",
       "      <td>607</td>\n",
       "      <td>16</td>\n",
       "      <td>'s sort hard say greatli enjoy `` target '' ``...</td>\n",
       "    </tr>\n",
       "    <tr>\n",
       "      <th>19997</th>\n",
       "      <td>I still liked it though. Warren Beatty is only...</td>\n",
       "      <td>1</td>\n",
       "      <td>1942</td>\n",
       "      <td>438</td>\n",
       "      <td>24</td>\n",
       "      <td>still like though warren beatti fair comic boo...</td>\n",
       "    </tr>\n",
       "    <tr>\n",
       "      <th>19998</th>\n",
       "      <td>We could still use Black Adder even today. Ima...</td>\n",
       "      <td>1</td>\n",
       "      <td>997</td>\n",
       "      <td>198</td>\n",
       "      <td>12</td>\n",
       "      <td>could still use black adder even today imagin ...</td>\n",
       "    </tr>\n",
       "    <tr>\n",
       "      <th>19999</th>\n",
       "      <td>This so-called \"documentary\" tries to tell tha...</td>\n",
       "      <td>0</td>\n",
       "      <td>2021</td>\n",
       "      <td>428</td>\n",
       "      <td>16</td>\n",
       "      <td>so-cal `` documentari '' tri tell usa fake moo...</td>\n",
       "    </tr>\n",
       "  </tbody>\n",
       "</table>\n",
       "<p>20000 rows × 6 columns</p>\n",
       "</div>"
      ],
      "text/plain": [
       "                                                  review  sentiment  \\\n",
       "0      One of the other reviewers has mentioned that ...          1   \n",
       "1      A wonderful little production. <br /><br />The...          1   \n",
       "2      I thought this was a wonderful way to spend ti...          1   \n",
       "3      Basically there's a family where a little boy ...          0   \n",
       "4      Petter Mattei's \"Love in the Time of Money\" is...          1   \n",
       "...                                                  ...        ...   \n",
       "19995  ok. for starters, taxi driver is amazing. this...          0   \n",
       "19996  It's sort of hard for me to say it, because I ...          0   \n",
       "19997  I still liked it though. Warren Beatty is only...          1   \n",
       "19998  We could still use Black Adder even today. Ima...          1   \n",
       "19999  This so-called \"documentary\" tries to tell tha...          0   \n",
       "\n",
       "       number of characters  number of words  number of sentence  \\\n",
       "0                      1761              380                  10   \n",
       "1                       998              201                   7   \n",
       "2                       926              205                   4   \n",
       "3                       748              175                   6   \n",
       "4                      1317              283                   9   \n",
       "...                     ...              ...                 ...   \n",
       "19995                   697              154                   9   \n",
       "19996                  2850              607                  16   \n",
       "19997                  1942              438                  24   \n",
       "19998                   997              198                  12   \n",
       "19999                  2021              428                  16   \n",
       "\n",
       "                                        review_transform  \n",
       "0      one review mention watch 1 oz episod 'll hook ...  \n",
       "1      wonder littl product film techniqu unassuming-...  \n",
       "2      thought wonder way spend time hot summer weeke...  \n",
       "3      basic 's famili littl boy jake think 's zombi ...  \n",
       "4      petter mattei 's `` love time money '' visual ...  \n",
       "...                                                  ...  \n",
       "19995  ok. starter taxi driver amaz taxi driver amaz ...  \n",
       "19996  's sort hard say greatli enjoy `` target '' ``...  \n",
       "19997  still like though warren beatti fair comic boo...  \n",
       "19998  could still use black adder even today imagin ...  \n",
       "19999  so-cal `` documentari '' tri tell usa fake moo...  \n",
       "\n",
       "[20000 rows x 6 columns]"
      ]
     },
     "execution_count": 31,
     "metadata": {},
     "output_type": "execute_result"
    }
   ],
   "source": [
    "dataset"
   ]
  },
  {
   "cell_type": "code",
   "execution_count": 32,
   "id": "ba199aaa",
   "metadata": {},
   "outputs": [
    {
     "data": {
      "text/plain": [
       "sentiment\n",
       "0    10097\n",
       "1     9903\n",
       "Name: count, dtype: int64"
      ]
     },
     "execution_count": 32,
     "metadata": {},
     "output_type": "execute_result"
    }
   ],
   "source": [
    "dataset['sentiment'].value_counts()"
   ]
  },
  {
   "cell_type": "code",
   "execution_count": 33,
   "id": "1ef5af33",
   "metadata": {},
   "outputs": [],
   "source": [
    "vector = TfidfVectorizer(ngram_range=(1,2),analyzer='word',max_features=5000,binary=True,sublinear_tf=True,norm='l2',use_idf=True)"
   ]
  },
  {
   "cell_type": "code",
   "execution_count": 34,
   "id": "4d1daae7",
   "metadata": {},
   "outputs": [],
   "source": [
    "x=vector.fit_transform(dataset['review_transform']).toarray()"
   ]
  },
  {
   "cell_type": "code",
   "execution_count": 35,
   "id": "46bae5fe",
   "metadata": {},
   "outputs": [],
   "source": [
    "y = dataset['sentiment'].values"
   ]
  },
  {
   "cell_type": "code",
   "execution_count": 36,
   "id": "0888e0b0",
   "metadata": {},
   "outputs": [],
   "source": [
    "x_train,x_test,y_train,y_test = train_test_split(x,y, test_size=0.2 , random_state=2)"
   ]
  },
  {
   "cell_type": "code",
   "execution_count": 37,
   "id": "5d8ca230",
   "metadata": {},
   "outputs": [],
   "source": [
    "lr=LogisticRegression(max_iter=100,solver='saga',class_weight=None,random_state=2)"
   ]
  },
  {
   "cell_type": "code",
   "execution_count": 38,
   "id": "d37f4c4e",
   "metadata": {},
   "outputs": [
    {
     "data": {
      "text/html": [
       "<style>#sk-container-id-1 {color: black;}#sk-container-id-1 pre{padding: 0;}#sk-container-id-1 div.sk-toggleable {background-color: white;}#sk-container-id-1 label.sk-toggleable__label {cursor: pointer;display: block;width: 100%;margin-bottom: 0;padding: 0.3em;box-sizing: border-box;text-align: center;}#sk-container-id-1 label.sk-toggleable__label-arrow:before {content: \"▸\";float: left;margin-right: 0.25em;color: #696969;}#sk-container-id-1 label.sk-toggleable__label-arrow:hover:before {color: black;}#sk-container-id-1 div.sk-estimator:hover label.sk-toggleable__label-arrow:before {color: black;}#sk-container-id-1 div.sk-toggleable__content {max-height: 0;max-width: 0;overflow: hidden;text-align: left;background-color: #f0f8ff;}#sk-container-id-1 div.sk-toggleable__content pre {margin: 0.2em;color: black;border-radius: 0.25em;background-color: #f0f8ff;}#sk-container-id-1 input.sk-toggleable__control:checked~div.sk-toggleable__content {max-height: 200px;max-width: 100%;overflow: auto;}#sk-container-id-1 input.sk-toggleable__control:checked~label.sk-toggleable__label-arrow:before {content: \"▾\";}#sk-container-id-1 div.sk-estimator input.sk-toggleable__control:checked~label.sk-toggleable__label {background-color: #d4ebff;}#sk-container-id-1 div.sk-label input.sk-toggleable__control:checked~label.sk-toggleable__label {background-color: #d4ebff;}#sk-container-id-1 input.sk-hidden--visually {border: 0;clip: rect(1px 1px 1px 1px);clip: rect(1px, 1px, 1px, 1px);height: 1px;margin: -1px;overflow: hidden;padding: 0;position: absolute;width: 1px;}#sk-container-id-1 div.sk-estimator {font-family: monospace;background-color: #f0f8ff;border: 1px dotted black;border-radius: 0.25em;box-sizing: border-box;margin-bottom: 0.5em;}#sk-container-id-1 div.sk-estimator:hover {background-color: #d4ebff;}#sk-container-id-1 div.sk-parallel-item::after {content: \"\";width: 100%;border-bottom: 1px solid gray;flex-grow: 1;}#sk-container-id-1 div.sk-label:hover label.sk-toggleable__label {background-color: #d4ebff;}#sk-container-id-1 div.sk-serial::before {content: \"\";position: absolute;border-left: 1px solid gray;box-sizing: border-box;top: 0;bottom: 0;left: 50%;z-index: 0;}#sk-container-id-1 div.sk-serial {display: flex;flex-direction: column;align-items: center;background-color: white;padding-right: 0.2em;padding-left: 0.2em;position: relative;}#sk-container-id-1 div.sk-item {position: relative;z-index: 1;}#sk-container-id-1 div.sk-parallel {display: flex;align-items: stretch;justify-content: center;background-color: white;position: relative;}#sk-container-id-1 div.sk-item::before, #sk-container-id-1 div.sk-parallel-item::before {content: \"\";position: absolute;border-left: 1px solid gray;box-sizing: border-box;top: 0;bottom: 0;left: 50%;z-index: -1;}#sk-container-id-1 div.sk-parallel-item {display: flex;flex-direction: column;z-index: 1;position: relative;background-color: white;}#sk-container-id-1 div.sk-parallel-item:first-child::after {align-self: flex-end;width: 50%;}#sk-container-id-1 div.sk-parallel-item:last-child::after {align-self: flex-start;width: 50%;}#sk-container-id-1 div.sk-parallel-item:only-child::after {width: 0;}#sk-container-id-1 div.sk-dashed-wrapped {border: 1px dashed gray;margin: 0 0.4em 0.5em 0.4em;box-sizing: border-box;padding-bottom: 0.4em;background-color: white;}#sk-container-id-1 div.sk-label label {font-family: monospace;font-weight: bold;display: inline-block;line-height: 1.2em;}#sk-container-id-1 div.sk-label-container {text-align: center;}#sk-container-id-1 div.sk-container {/* jupyter's `normalize.less` sets `[hidden] { display: none; }` but bootstrap.min.css set `[hidden] { display: none !important; }` so we also need the `!important` here to be able to override the default hidden behavior on the sphinx rendered scikit-learn.org. See: https://github.com/scikit-learn/scikit-learn/issues/21755 */display: inline-block !important;position: relative;}#sk-container-id-1 div.sk-text-repr-fallback {display: none;}</style><div id=\"sk-container-id-1\" class=\"sk-top-container\"><div class=\"sk-text-repr-fallback\"><pre>LogisticRegression(random_state=2, solver=&#x27;saga&#x27;)</pre><b>In a Jupyter environment, please rerun this cell to show the HTML representation or trust the notebook. <br />On GitHub, the HTML representation is unable to render, please try loading this page with nbviewer.org.</b></div><div class=\"sk-container\" hidden><div class=\"sk-item\"><div class=\"sk-estimator sk-toggleable\"><input class=\"sk-toggleable__control sk-hidden--visually\" id=\"sk-estimator-id-1\" type=\"checkbox\" checked><label for=\"sk-estimator-id-1\" class=\"sk-toggleable__label sk-toggleable__label-arrow\">LogisticRegression</label><div class=\"sk-toggleable__content\"><pre>LogisticRegression(random_state=2, solver=&#x27;saga&#x27;)</pre></div></div></div></div></div>"
      ],
      "text/plain": [
       "LogisticRegression(random_state=2, solver='saga')"
      ]
     },
     "execution_count": 38,
     "metadata": {},
     "output_type": "execute_result"
    }
   ],
   "source": [
    "lr.fit(x_train,y_train)"
   ]
  },
  {
   "cell_type": "code",
   "execution_count": 39,
   "id": "e2ed5af7",
   "metadata": {},
   "outputs": [],
   "source": [
    "pred= lr.predict(x_test)"
   ]
  },
  {
   "cell_type": "code",
   "execution_count": 40,
   "id": "359e55b2",
   "metadata": {},
   "outputs": [
    {
     "name": "stdout",
     "output_type": "stream",
     "text": [
      "0.88525\n",
      "[[1759  236]\n",
      " [ 223 1782]]\n",
      "0.8830525272547076\n"
     ]
    }
   ],
   "source": [
    "print(accuracy_score(y_test,pred))\n",
    "print(confusion_matrix(y_test,pred))\n",
    "print(precision_score(y_test,pred))"
   ]
  },
  {
   "cell_type": "markdown",
   "id": "40cd632e",
   "metadata": {},
   "source": [
    "# ..........** TESTING THE MODEL **........"
   ]
  },
  {
   "cell_type": "markdown",
   "id": "9a3dafaa",
   "metadata": {},
   "source": [
    "#  NEGATIVE REVIEW "
   ]
  },
  {
   "cell_type": "code",
   "execution_count": 43,
   "id": "d6902b8b",
   "metadata": {},
   "outputs": [],
   "source": [
    "inputs = '''Movie Title: The Room\n",
    "\n",
    "Review:\n",
    "\n",
    "The Room is a disaster of a film that fails on almost every level imaginable. The script is riddled with nonsensical dialogue and plot holes so large you could drive a truck through them. The story is incoherent, with subplots introduced and then forgotten, leaving viewers scratching their heads in confusion.\n",
    "\n",
    "The acting is painfully bad, with Tommy Wiseau leading the charge as one of the most wooden performances ever captured on film. His line delivery is bizarre, and the chemistry between the characters is non-existent. It's hard to believe that anyone involved in this production thought they were making something of quality.\n",
    "\n",
    "The film's direction and cinematography are equally atrocious, with awkward framing and scenes that drag on for far too long. The editing is choppy, making the already confusing story even harder to follow.\n",
    "\n",
    "Despite all of this, The Room has somehow gained a cult following, perhaps because it’s so bad it’s almost entertaining in a trainwreck sort of way. But make no mistake—this is a movie that fails in every aspect of filmmaking and should be avoided by anyone looking for a coherent or enjoyable viewing experience. It's a film that resonates on a deeply human level, reminding us of the power of hope and the resilience of the human spirit. Simply put, it's a must-watch that will stay with you long after the credits roll.\n",
    "\n",
    "'''"
   ]
  },
  {
   "cell_type": "code",
   "execution_count": 44,
   "id": "263f4896",
   "metadata": {},
   "outputs": [
    {
     "data": {
      "text/plain": [
       "\"movi titl room review room disast film fail almost everi level imagin script riddl nonsens dialogu plot hole larg could drive truck stori incoher subplot introduc forgotten leav viewer scratch head confus act pain bad tommi wiseau lead charg one wooden perform ever captur film line deliveri bizarr chemistri charact non-exist 's hard believ anyon involv product thought make someth qualiti film 's direct cinematographi equal atroci awkward frame scene drag far long edit choppi make alreadi confus stori even harder follow despit room somehow gain cult follow perhap ’ bad ’ almost entertain trainwreck sort way make mistake—thi movi fail everi aspect filmmak avoid anyon look coher enjoy view experi 's film reson deepli human level remind us power hope resili human spirit simpli put 's must-watch stay long credit roll\""
      ]
     },
     "execution_count": 44,
     "metadata": {},
     "output_type": "execute_result"
    }
   ],
   "source": [
    "input_trans=preprocessing(inputs)\n",
    "input_trans"
   ]
  },
  {
   "cell_type": "code",
   "execution_count": 45,
   "id": "74eeb2ec",
   "metadata": {},
   "outputs": [],
   "source": [
    "vector_input=vector.transform([input_trans])"
   ]
  },
  {
   "cell_type": "code",
   "execution_count": 46,
   "id": "c44bcbb2",
   "metadata": {},
   "outputs": [],
   "source": [
    "result=lr.predict(vector_input)[0]"
   ]
  },
  {
   "cell_type": "code",
   "execution_count": 47,
   "id": "b2d64938",
   "metadata": {},
   "outputs": [
    {
     "name": "stdout",
     "output_type": "stream",
     "text": [
      "Review is Negative.....\u001b[31m WE WILL WORK ON IT...\u001b[0m\n"
     ]
    }
   ],
   "source": [
    "if result==1:\n",
    "    print(\"Review is positive.....\\033[32m THANK YOU...\\033[0m\")\n",
    "else:\n",
    "    print(\"Review is Negative.....\\033[31m WE WILL WORK ON IT...\\033[0m\")    "
   ]
  },
  {
   "cell_type": "markdown",
   "id": "71d723f4",
   "metadata": {},
   "source": [
    "# POSITIVE REVIEW"
   ]
  },
  {
   "cell_type": "code",
   "execution_count": 48,
   "id": "9da65fb5",
   "metadata": {},
   "outputs": [],
   "source": [
    "pos = '''Movie Title: The Shawshank Redemption\n",
    "\n",
    "Review:\n",
    "\n",
    "The Shawshank Redemption is a cinematic masterpiece that stands the test of time. The story of hope, friendship, and perseverance is beautifully told through the lens of an unjustly imprisoned man, Andy Dufresne. The film's pacing is perfect, allowing the characters to develop fully, and the bond between Andy and Red is one of the most touching relationships ever portrayed on screen.\n",
    "\n",
    "The performances by Tim Robbins and Morgan Freeman are outstanding, with Freeman's narration adding a layer of depth and emotion that draws the audience in. The film's ending is both satisfying and uplifting, leaving viewers with a sense of closure and hope.\n",
    "\n",
    "The cinematography, direction, and score all contribute to making The Shawshank Redemption a truly unforgettable experience. It's a film that resonates on a deeply human level, reminding us of the power of hope and the resilience of the human spirit. Simply put, it's a must-watch that will stay with you long after the credits roll.'''"
   ]
  },
  {
   "cell_type": "code",
   "execution_count": 49,
   "id": "43ddc2de",
   "metadata": {},
   "outputs": [],
   "source": [
    "input_trans=preprocessing(pos)"
   ]
  },
  {
   "cell_type": "code",
   "execution_count": 50,
   "id": "c342df1d",
   "metadata": {},
   "outputs": [],
   "source": [
    "vector_input=vector.transform([input_trans])"
   ]
  },
  {
   "cell_type": "code",
   "execution_count": 51,
   "id": "d0396228",
   "metadata": {},
   "outputs": [],
   "source": [
    "result=lr.predict(vector_input)[0]"
   ]
  },
  {
   "cell_type": "code",
   "execution_count": 52,
   "id": "e8642dd3",
   "metadata": {},
   "outputs": [
    {
     "name": "stdout",
     "output_type": "stream",
     "text": [
      "Review is positive.....\u001b[32m THANK YOU...\u001b[0m\n"
     ]
    }
   ],
   "source": [
    "if result==1:\n",
    "    print(\"Review is positive.....\\033[32m THANK YOU...\\033[0m\")\n",
    "else:\n",
    "    print(\"Review is Negative.....\\033[31m WE WILL WORK ON IT...\\033[0m\")    "
   ]
  },
  {
   "cell_type": "code",
   "execution_count": 53,
   "id": "b73cce90",
   "metadata": {},
   "outputs": [],
   "source": [
    "import pickle\n",
    "pickle.dump(vector,open('vectorizer.pkl','wb'))\n",
    "pickle.dump(lr,open('model.pkl','wb'))"
   ]
  },
  {
   "cell_type": "code",
   "execution_count": 55,
   "id": "5b640b5e",
   "metadata": {},
   "outputs": [],
   "source": [
    "pickle.dump(preprocessing,open('preprocessing.pkl','wb'))"
   ]
  }
 ],
 "metadata": {
  "kernelspec": {
   "display_name": "Python 3 (ipykernel)",
   "language": "python",
   "name": "python3"
  },
  "language_info": {
   "codemirror_mode": {
    "name": "ipython",
    "version": 3
   },
   "file_extension": ".py",
   "mimetype": "text/x-python",
   "name": "python",
   "nbconvert_exporter": "python",
   "pygments_lexer": "ipython3",
   "version": "3.11.5"
  }
 },
 "nbformat": 4,
 "nbformat_minor": 5
}
